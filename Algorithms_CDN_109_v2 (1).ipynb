{
 "cells": [
  {
   "cell_type": "markdown",
   "metadata": {},
   "source": [
    "# Classic Algorithms"
   ]
  },
  {
   "cell_type": "markdown",
   "metadata": {},
   "source": [
    "## Tasks Today:\n",
    " \n",
    "1) <b>In-Place Algorithms</b> <br>\n",
    " &nbsp;&nbsp;&nbsp;&nbsp; a) Syntax <br>\n",
    " &nbsp;&nbsp;&nbsp;&nbsp; a) Out of Place Algorithm <br>\n",
    " &nbsp;&nbsp;&nbsp;&nbsp; b) In-Class Exercise #1 <br>\n",
    "2) <b>Two Pointers</b> <br>\n",
    "3) <b>Sorting Algorithms</b> <br>\n",
    "4) <b>Merge Sort</b> <br>\n",
    " &nbsp;&nbsp;&nbsp;&nbsp; a) Video on Algorithms <br>\n",
    " &nbsp;&nbsp;&nbsp;&nbsp; b) How it Works <br>\n",
    "5) <b>Exercises</b> <br>\n",
    " &nbsp;&nbsp;&nbsp;&nbsp; a) Exercise #1 - Reverse a List in Place Using an In-Place Algorithm <br>\n",
    " &nbsp;&nbsp;&nbsp;&nbsp; b) Exercise #2 - Find Distinct Words <br>\n",
    " &nbsp;&nbsp;&nbsp;&nbsp; c) Exercise #3 - Write a program to implement a Linear Search Algorithm. <br>"
   ]
  },
  {
   "cell_type": "markdown",
   "metadata": {},
   "source": [
    "## In-Place Algorithms"
   ]
  },
  {
   "cell_type": "markdown",
   "metadata": {},
   "source": [
    "#### Syntax"
   ]
  },
  {
   "cell_type": "code",
   "execution_count": 2,
   "metadata": {},
   "outputs": [
    {
     "name": "stdout",
     "output_type": "stream",
     "text": [
      "[1, 5, 3, 4, 2]\n"
     ]
    }
   ],
   "source": [
    "a_list = [1,2,3,4,5]\n",
    "\n",
    "def swap(input_list, i, j):\n",
    "    temp = input_list[i]\n",
    "    input_list[i],  input_list[j] = input_list[j], input_list[i]\n",
    "    \n",
    "    \n",
    "    return input_list\n",
    "swap(a_list, 1, 4)\n",
    "\n",
    "print(a_list)"
   ]
  },
  {
   "cell_type": "code",
   "execution_count": null,
   "metadata": {},
   "outputs": [],
   "source": []
  },
  {
   "cell_type": "code",
   "execution_count": 3,
   "metadata": {},
   "outputs": [
    {
     "ename": "UnboundLocalError",
     "evalue": "local variable 'input_list' referenced before assignment",
     "output_type": "error",
     "traceback": [
      "\u001b[1;31m---------------------------------------------------------------------------\u001b[0m",
      "\u001b[1;31mUnboundLocalError\u001b[0m                         Traceback (most recent call last)",
      "\u001b[1;32m~\\AppData\\Local\\Temp\\ipykernel_32096\\1640712623.py\u001b[0m in \u001b[0;36m<module>\u001b[1;34m\u001b[0m\n\u001b[0;32m      9\u001b[0m     \u001b[0minput_list\u001b[0m\u001b[1;33m[\u001b[0m\u001b[0mj\u001b[0m\u001b[1;33m]\u001b[0m \u001b[1;33m=\u001b[0m \u001b[0mtemp\u001b[0m\u001b[1;33m\u001b[0m\u001b[1;33m\u001b[0m\u001b[0m\n\u001b[0;32m     10\u001b[0m \u001b[1;33m\u001b[0m\u001b[0m\n\u001b[1;32m---> 11\u001b[1;33m \u001b[0mswap_sublist\u001b[0m\u001b[1;33m(\u001b[0m\u001b[0ma_list\u001b[0m\u001b[1;33m,\u001b[0m \u001b[1;36m2\u001b[0m\u001b[1;33m,\u001b[0m \u001b[1;36m0\u001b[0m\u001b[1;33m,\u001b[0m \u001b[1;36m1\u001b[0m\u001b[1;33m)\u001b[0m\u001b[1;33m\u001b[0m\u001b[1;33m\u001b[0m\u001b[0m\n\u001b[0m",
      "\u001b[1;32m~\\AppData\\Local\\Temp\\ipykernel_32096\\1640712623.py\u001b[0m in \u001b[0;36mswap_sublist\u001b[1;34m(a_list, inner_list, i, j)\u001b[0m\n\u001b[0;32m      2\u001b[0m \u001b[1;33m\u001b[0m\u001b[0m\n\u001b[0;32m      3\u001b[0m \u001b[1;32mdef\u001b[0m \u001b[0mswap_sublist\u001b[0m\u001b[1;33m(\u001b[0m\u001b[0ma_list\u001b[0m\u001b[1;33m,\u001b[0m\u001b[0minner_list\u001b[0m\u001b[1;33m,\u001b[0m \u001b[0mi\u001b[0m\u001b[1;33m,\u001b[0m \u001b[0mj\u001b[0m\u001b[1;33m)\u001b[0m\u001b[1;33m:\u001b[0m\u001b[1;33m\u001b[0m\u001b[1;33m\u001b[0m\u001b[0m\n\u001b[1;32m----> 4\u001b[1;33m     \u001b[0minput_list\u001b[0m \u001b[1;33m=\u001b[0m \u001b[0minput_list\u001b[0m\u001b[1;33m[\u001b[0m\u001b[0minner_list\u001b[0m\u001b[1;33m]\u001b[0m\u001b[1;33m\u001b[0m\u001b[1;33m\u001b[0m\u001b[0m\n\u001b[0m\u001b[0;32m      5\u001b[0m \u001b[1;33m\u001b[0m\u001b[0m\n\u001b[0;32m      6\u001b[0m \u001b[1;33m\u001b[0m\u001b[0m\n",
      "\u001b[1;31mUnboundLocalError\u001b[0m: local variable 'input_list' referenced before assignment"
     ]
    }
   ],
   "source": [
    "a_list = [[1,2],[3,4],[5,6]]\n",
    "\n",
    "def swap_sublist(a_list,inner_list, i, j):\n",
    "    input_list = input_list[inner_list]\n",
    "    \n",
    "    \n",
    "    temp = input_list[i]\n",
    "    input_list[i] = input_list[j]\n",
    "    input_list[j] = temp\n",
    "    \n",
    "swap_sublist(a_list, 2, 0, 1)"
   ]
  },
  {
   "cell_type": "markdown",
   "metadata": {},
   "source": [
    "#### Out of Place Algorithm"
   ]
  },
  {
   "cell_type": "code",
   "execution_count": 5,
   "metadata": {},
   "outputs": [
    {
     "name": "stdout",
     "output_type": "stream",
     "text": [
      "[1, 2, 3, 4, 5]\n",
      "[1, 5, 3, 4, 2]\n"
     ]
    }
   ],
   "source": [
    "a_list = [1,2,3,4,5]\n",
    "\n",
    "def swap(input_list, i, j):\n",
    "    input_list = input_list[:]\n",
    "    temp = input_list[i]\n",
    "    input_list[i],  input_list[j] = input_list[j], input_list[i]\n",
    "    \n",
    "    \n",
    "    return input_list\n",
    "swapped_list = swap(a_list, 1, 4)\n",
    "\n",
    "print(a_list)\n",
    "print(swapped_list)"
   ]
  },
  {
   "cell_type": "markdown",
   "metadata": {},
   "source": [
    "#### In-Class Exercise #1 <br>\n",
    "<p>Write a function that takes in four arguments (list, index1, index2, index3), and swaps those three positions in the list passed in.</p>"
   ]
  },
  {
   "cell_type": "code",
   "execution_count": 11,
   "metadata": {},
   "outputs": [
    {
     "name": "stdout",
     "output_type": "stream",
     "text": [
      "[30, 20, 10, 40]\n"
     ]
    }
   ],
   "source": [
    "a_list = [10,20,30,40]\n",
    "def swap(input_list, i, j, k):\n",
    "    temp = input_list[i]\n",
    "    input_list[i],  input_list[j], input_list[k] = input_list[j], input_list[i],input_list[k]\n",
    "    \n",
    "    \n",
    "    return input_list\n",
    "swap(a_list, 0, 2, 3 )\n",
    "\n",
    "print(a_list)"
   ]
  },
  {
   "cell_type": "markdown",
   "metadata": {},
   "source": [
    "## Two Pointers"
   ]
  },
  {
   "cell_type": "markdown",
   "metadata": {},
   "source": [
    "#### Syntax"
   ]
  },
  {
   "cell_type": "code",
   "execution_count": 14,
   "metadata": {},
   "outputs": [
    {
     "name": "stdout",
     "output_type": "stream",
     "text": [
      "[5, 4, 3, 2, 1]\n"
     ]
    }
   ],
   "source": [
    "# revese list\n",
    "a_list = [1,2,3,4,5]\n",
    "#[5,2,3,4,1]1st\n",
    "#[5,4,3,2,1]2nd\n",
    "\n",
    "def reverse(a_list):\n",
    "    left = 0\n",
    "    right = len(a_list) - 1\n",
    "    \n",
    "    while left <= right:\n",
    "        a_list[left], a_list[right] = a_list[right],a_list[left]\n",
    "        left += 1\n",
    "        right -= 1\n",
    "        \n",
    "    return a_list\n",
    "print(reverse(a_list))    "
   ]
  },
  {
   "cell_type": "code",
   "execution_count": 13,
   "metadata": {},
   "outputs": [
    {
     "name": "stdout",
     "output_type": "stream",
     "text": [
      "[5, 4, 3, 2, 1]\n"
     ]
    }
   ],
   "source": [
    "print(reverse(a_list))"
   ]
  },
  {
   "cell_type": "markdown",
   "metadata": {},
   "source": [
    "# two sum"
   ]
  },
  {
   "cell_type": "code",
   "execution_count": 39,
   "metadata": {},
   "outputs": [
    {
     "data": {
      "text/plain": [
       "[[2, 5]]"
      ]
     },
     "execution_count": 39,
     "metadata": {},
     "output_type": "execute_result"
    }
   ],
   "source": [
    "# The two sum problem is stated as follows: given an unsorted list and a number target, \n",
    "# the pair of numbers in that list such that their sum equals target.\n",
    "# For example, if the list is [3,5,2,−4,8,] and the value of target is 7, \n",
    "# then the program should return pair (2,5) since  and 2+5 are equal to 7.\n",
    "a_list = [3,5,2,-4,8]\n",
    "\n",
    "def two_sum(a_list, target):\n",
    "    number_list = {}\n",
    "    sum=[]\n",
    "    a_list.sort()\n",
    "    for index, value in enumerate(a_list):\n",
    "        if value in number_list:\n",
    "            sum.append([a_list[number_list[value]], a_list[index]])\n",
    "        number_list[target - value] = index\n",
    "    return sum\n",
    "two_sum([3,5,2,-4,8], 7)\n",
    "\n",
    "        \n",
    "\n",
    "#two_sum([3,5,2,-4,8], 7) # Should return [2, 5]"
   ]
  },
  {
   "cell_type": "code",
   "execution_count": 43,
   "metadata": {},
   "outputs": [
    {
     "data": {
      "text/plain": [
       "[5, 2]"
      ]
     },
     "execution_count": 43,
     "metadata": {},
     "output_type": "execute_result"
    }
   ],
   "source": [
    "def two_sum(a_list, target):\n",
    "    for i in range (len(a_list)):\n",
    "        for j in range(i+1, len(a_list)):\n",
    "            if a_list[i] + a_list[j] == target:\n",
    "                return[a_list[i],a_list[j]]\n",
    "                \n",
    "two_sum([3,5,2,-4,8], 7)           "
   ]
  },
  {
   "cell_type": "code",
   "execution_count": 47,
   "metadata": {},
   "outputs": [
    {
     "data": {
      "text/plain": [
       "[2, 5]"
      ]
     },
     "execution_count": 47,
     "metadata": {},
     "output_type": "execute_result"
    }
   ],
   "source": [
    "def two_sum(a_list, target):\n",
    "    num_dict = {}\n",
    "    for i in range(len(a_list)):\n",
    "        if target - a_list[i] in num_dict:\n",
    "            return [a_list[i],target -a_list[i]]\n",
    "        num_dict[a_list[i]] = i\n",
    "two_sum([3,5,2,-4,8], 7)"
   ]
  },
  {
   "cell_type": "code",
   "execution_count": null,
   "metadata": {},
   "outputs": [],
   "source": [
    "def two_sum(a_list, target):\n",
    "    num_dict = {}\n",
    "    for i in range(len(a_list)):\n",
    "        if target - a_list[i] in num_dict:\n",
    "            return [a_list[i],target -a_list[i]]\n",
    "        num_dict[a_list[i]] = i\n",
    "two_sum([3,5,2,-4,8], 7)"
   ]
  },
  {
   "cell_type": "code",
   "execution_count": 49,
   "metadata": {},
   "outputs": [
    {
     "ename": "NameError",
     "evalue": "name 'lucky_numbers' is not defined",
     "output_type": "error",
     "traceback": [
      "\u001b[1;31m---------------------------------------------------------------------------\u001b[0m",
      "\u001b[1;31mNameError\u001b[0m                                 Traceback (most recent call last)",
      "\u001b[1;32m~\\AppData\\Local\\Temp\\ipykernel_32096\\2315412124.py\u001b[0m in \u001b[0;36m<module>\u001b[1;34m\u001b[0m\n\u001b[0;32m     15\u001b[0m \u001b[1;33m\u001b[0m\u001b[0m\n\u001b[0;32m     16\u001b[0m     \u001b[1;32mreturn\u001b[0m \u001b[0mlucky_num\u001b[0m\u001b[1;33m\u001b[0m\u001b[1;33m\u001b[0m\u001b[0m\n\u001b[1;32m---> 17\u001b[1;33m \u001b[0mlucky_numbers\u001b[0m\u001b[1;33m(\u001b[0m\u001b[1;33m[\u001b[0m\u001b[1;36m1\u001b[0m\u001b[1;33m,\u001b[0m\u001b[1;36m2\u001b[0m\u001b[1;33m,\u001b[0m\u001b[1;36m2\u001b[0m\u001b[1;33m,\u001b[0m\u001b[1;36m3\u001b[0m\u001b[1;33m,\u001b[0m\u001b[1;36m3\u001b[0m\u001b[1;33m,\u001b[0m\u001b[1;36m3\u001b[0m\u001b[1;33m]\u001b[0m\u001b[1;33m)\u001b[0m\u001b[1;33m\u001b[0m\u001b[1;33m\u001b[0m\u001b[0m\n\u001b[0m",
      "\u001b[1;31mNameError\u001b[0m: name 'lucky_numbers' is not defined"
     ]
    }
   ],
   "source": [
    "def lucky_number(arr):\n",
    "    counter = {}\n",
    "    \n",
    "    for num in arr:\n",
    "        if num in counter:\n",
    "            counter[num] += 1\n",
    "        else:\n",
    "            counter[num] = 1\n",
    "    lucky_num = -1\n",
    "    \n",
    "    for key in counter:\n",
    "        if key == counter[key]:\n",
    "            if key > lucky_num:\n",
    "                lucky_num = key\n",
    "                \n",
    "    return lucky_num\n",
    "lucky_numbers([1,2,2,3,3,3])"
   ]
  },
  {
   "cell_type": "markdown",
   "metadata": {},
   "source": [
    "#### Video of Algorithms <br>\n",
    "<p>Watch the video about algorithms.</p>\n",
    "\n",
    "https://www.youtube.com/watch?v=Q9HjeFD62Uk\n",
    "\n",
    "https://www.youtube.com/watch?v=kPRA0W1kECg\n",
    "\n",
    "https://www.youtube.com/watch?v=ZZuD6iUe3Pc"
   ]
  },
  {
   "cell_type": "code",
   "execution_count": null,
   "metadata": {},
   "outputs": [],
   "source": []
  },
  {
   "cell_type": "markdown",
   "metadata": {},
   "source": [
    "# Sorting Algorithms"
   ]
  },
  {
   "cell_type": "markdown",
   "metadata": {},
   "source": [
    "#### Bubble Sort\n",
    "\n",
    "Worst Case: O(n^2) Time - O(1) Space"
   ]
  },
  {
   "cell_type": "code",
   "execution_count": 58,
   "metadata": {},
   "outputs": [
    {
     "data": {
      "text/plain": [
       "[-2, 6, 10, 44, 53, 89, 1111]"
      ]
     },
     "execution_count": 58,
     "metadata": {},
     "output_type": "execute_result"
    }
   ],
   "source": [
    "# Define an index i at 0, and an index j at i + 1\n",
    "# create a while loop, that runs until the list is sorted\n",
    "# Compare the values at i and j to see if the value at i is greater than j\n",
    "# if it is, swap the values. If it is not, leave the values alone.\n",
    "# increment i and j, until j is greater than the index of the last unsorted element\n",
    "# reset i and j to the beginning\n",
    "# If we go through the entire list and do not swap any elements, the list is sorted\n",
    "# and we can exit the loop\n",
    "\n",
    "def bubble_sort(a_list):\n",
    "    i, j = 0, 1\n",
    "    last_unsorted = len(a_list)\n",
    "    is_sorted = False\n",
    "    \n",
    "    \n",
    "    while not is_sorted:\n",
    "        is_sorted = True\n",
    "        while j < last_unsorted:\n",
    "            if a_list[i] > a_list[j]:\n",
    "                a_list[i], a_list[j] = a_list[j], a_list[i]\n",
    "                is_sorted = False\n",
    "            \n",
    "            i += 1\n",
    "            j += 1\n",
    "\n",
    "        last_unsorted = j - 1\n",
    "        i = 0\n",
    "        j = 1\n",
    "\n",
    "    return a_list\n",
    "bubble_sort([1111,-2,53,44,6,89,10])\n",
    "\n",
    "\n",
    "\n"
   ]
  },
  {
   "cell_type": "markdown",
   "metadata": {},
   "source": [
    "##### Insertion Sort\n",
    "\n",
    "Worst Case: O(n^2) time - O(1)space"
   ]
  },
  {
   "cell_type": "code",
   "execution_count": null,
   "metadata": {},
   "outputs": [],
   "source": [
    "# Define an index i at 0, and an index j at i + 1\n",
    "# create a while loop, to extract unsorted element j\n",
    "# i = sorted \n",
    "#j = unsorted\n",
    "#if  i > j move to the right by 1"
   ]
  },
  {
   "cell_type": "code",
   "execution_count": 64,
   "metadata": {},
   "outputs": [
    {
     "data": {
      "text/plain": [
       "[1, 5, 6, 11, 12, 13]"
      ]
     },
     "execution_count": 64,
     "metadata": {},
     "output_type": "execute_result"
    }
   ],
   "source": [
    "def insertion_sort(num):\n",
    "    for i in range(1, len(num)):\n",
    "        sortted = num[i]\n",
    "        j = i-1\n",
    "        while j >= 0 and sortted < num[j] :\n",
    "                num[j + 1] = num[j]\n",
    "                j -= 1\n",
    "        num[j + 1] = sortted\n",
    "    return num\n",
    "\n",
    "insertion_sort([12, 11, 13, 5, 6, 1])\n"
   ]
  },
  {
   "cell_type": "markdown",
   "metadata": {},
   "source": [
    "## Merge Sort"
   ]
  },
  {
   "cell_type": "markdown",
   "metadata": {},
   "source": [
    "#### How it Works"
   ]
  },
  {
   "cell_type": "code",
   "execution_count": null,
   "metadata": {},
   "outputs": [],
   "source": []
  },
  {
   "cell_type": "markdown",
   "metadata": {},
   "source": [
    "## Binary Search Trees"
   ]
  },
  {
   "cell_type": "code",
   "execution_count": null,
   "metadata": {},
   "outputs": [],
   "source": []
  },
  {
   "cell_type": "markdown",
   "metadata": {},
   "source": [
    "#### In Class Assignment Level Master:\n",
    "invert the binary tree (Reverse it)"
   ]
  },
  {
   "cell_type": "code",
   "execution_count": null,
   "metadata": {},
   "outputs": [],
   "source": []
  },
  {
   "cell_type": "markdown",
   "metadata": {},
   "source": [
    "# Exercises"
   ]
  },
  {
   "cell_type": "markdown",
   "metadata": {},
   "source": [
    "### Exercise #1 <br>\n",
    "<p>Reverse the list below in-place using an in-place algorithm.<br>For extra credit: Reverse the strings at the same time.</p>"
   ]
  },
  {
   "cell_type": "code",
   "execution_count": 95,
   "metadata": {},
   "outputs": [
    {
     "name": "stdout",
     "output_type": "stream",
     "text": [
      "['.', 'ecnetnes', 'a', 'si', 'siht']\n"
     ]
    }
   ],
   "source": [
    "words = ['this' , 'is', 'a', 'sentence', '.']\n",
    "def reverse(words):\n",
    "    left = 0\n",
    "    right = len(words) - 1\n",
    "    \n",
    "    while left <= right:\n",
    "        words[left], words[right] = words[right][:: -1],words[left][:: - 1]\n",
    "        left += 1\n",
    "        right -= 1\n",
    "        \n",
    "    return words\n",
    "print(reverse(words)) \n",
    "#"
   ]
  },
  {
   "cell_type": "markdown",
   "metadata": {},
   "source": [
    "### Exercise #2 <br>\n",
    "<p>Create a function that counts how many distinct words are in the string below, then outputs a dictionary with the words as the key and the value as the amount of times that word appears in the string.<br>Should output:<br>{'a': 5,<br>\n",
    " 'abstract': 1,<br>\n",
    " 'an': 3,<br>\n",
    " 'array': 2, ... etc...</p>"
   ]
  },
  {
   "cell_type": "code",
   "execution_count": 97,
   "metadata": {},
   "outputs": [
    {
     "name": "stdout",
     "output_type": "stream",
     "text": [
      "be : 1\n",
      "the : 1\n",
      "which : 2\n",
      "map : 2\n",
      "data : 2\n",
      "array : 2\n",
      "is : 1\n",
      "or : 1\n",
      "can : 2\n",
      "found : 1\n",
      "abstract : 1\n",
      "uses : 1\n",
      "index : 1\n",
      "slots : 1\n",
      "value : 1\n",
      "type, : 1\n",
      "hash : 4\n",
      "A : 1\n",
      "of : 1\n",
      "compute : 1\n",
      "into : 1\n",
      "values. : 1\n",
      "table : 2\n",
      "to : 2\n",
      "In : 1\n",
      "associative : 1\n",
      "structure : 2\n",
      "computing, : 1\n",
      "implements : 1\n",
      "a : 4\n",
      "function : 1\n",
      "that : 1\n",
      "keys : 1\n",
      "from : 1\n",
      "desired : 1\n",
      "buckets : 1\n",
      "an : 3\n"
     ]
    }
   ],
   "source": [
    "a_text = 'In computing, a hash table hash map is a data structure which implements an associative array abstract data type, a structure that can map keys to values. A hash table uses a hash function to compute an index into an array of buckets or slots from which the desired value can be found'\n",
    "def freq(str):\n",
    "    str_list = str.split()\n",
    "    unique_words = set(str_list)\n",
    "    words = {}\n",
    "    for words in unique_words :\n",
    "        print(words , ':', str_list.count(words))\n",
    "if __name__ == \"__main__\":\n",
    "  \n",
    "    freq(str)\n",
    "\n"
   ]
  },
  {
   "cell_type": "markdown",
   "metadata": {},
   "source": [
    "## Exercise #3\n",
    "\n",
    "Write a program to implement a Linear Search Algorithm. Also in a comment, write the Time Complexity of the following algorithm.\n",
    "\n",
    "#### Hint: Linear Searching will require searching a list for a given number. "
   ]
  },
  {
   "cell_type": "code",
   "execution_count": 98,
   "metadata": {},
   "outputs": [],
   "source": [
    "\n",
    "\n",
    "           "
   ]
  },
  {
   "cell_type": "code",
   "execution_count": 101,
   "metadata": {},
   "outputs": [],
   "source": [
    "nums_list = [10,23,45,70,11,15]\n",
    "target = 70\n",
    "# If number is not present return -1\n",
    "def num_list(lst, target):\n",
    "    for i in range(len(lst)):\n",
    "        if(lst[i] == target):\n",
    "            return i\n",
    "    return -1"
   ]
  },
  {
   "cell_type": "code",
   "execution_count": null,
   "metadata": {},
   "outputs": [],
   "source": []
  }
 ],
 "metadata": {
  "kernelspec": {
   "display_name": "Python 3 (ipykernel)",
   "language": "python",
   "name": "python3"
  },
  "language_info": {
   "codemirror_mode": {
    "name": "ipython",
    "version": 3
   },
   "file_extension": ".py",
   "mimetype": "text/x-python",
   "name": "python",
   "nbconvert_exporter": "python",
   "pygments_lexer": "ipython3",
   "version": "3.9.13"
  }
 },
 "nbformat": 4,
 "nbformat_minor": 2
}
